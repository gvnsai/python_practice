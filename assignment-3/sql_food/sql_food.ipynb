{
 "cells": [
  {
   "cell_type": "code",
   "execution_count": null,
   "metadata": {},
   "outputs": [],
   "source": [
    "import mysql.connector\n",
    "import pandas as pd\n",
    "\n",
    "db=mysql.connector.connect(\n",
    "host=\"localhost\",\n",
    "user=\"vguggilam\",\n",
    "passwd=\"Welcome@123\",\n",
    "database=\"sheets\")\n",
    "mycursor=db.cursor()\n",
    "\n",
    "\n",
    "sql=\"select distinct inspection.facility_name as name,inspection.facility_address as address,inspection.facility_zip as zip_code,inspection.facility_city as city from inspection inner join violation on inspection.serial_number=violation.serial_number order by name ASC;\"\n",
    "mycursor.execute(sql)\n",
    "res =list(mycursor.fetchall())\n",
    "print(res)\n",
    "\n",
    "\n",
    "\n",
    "# # sql=\"create table previous_violation as select distinct inspection.facility_name as name,inspection.facility_address as address,inspection.facility_zip as zip_code,inspection.facility_city as city from inspection inner join violation on inspection.serial_number=violation.serial_number order by name ASC;\"\n",
    "# # mycursor.execute(sql)\n",
    "# sql1=\"select * from previous_violation;\"\n",
    "# mycursor.execute(sql1)\n",
    "# # res=mycursor.fetchall()\n",
    "# for x in mycursor:\n",
    "#    print(x)"
   ]
  },
  {
   "cell_type": "code",
   "execution_count": null,
   "metadata": {},
   "outputs": [],
   "source": []
  },
  {
   "cell_type": "code",
   "execution_count": null,
   "metadata": {},
   "outputs": [],
   "source": []
  },
  {
   "cell_type": "code",
   "execution_count": null,
   "metadata": {},
   "outputs": [],
   "source": []
  },
  {
   "cell_type": "code",
   "execution_count": null,
   "metadata": {},
   "outputs": [],
   "source": []
  }
 ],
 "metadata": {
  "kernelspec": {
   "display_name": "Python 3",
   "language": "python",
   "name": "python3"
  },
  "language_info": {
   "codemirror_mode": {
    "name": "ipython",
    "version": 3
   },
   "file_extension": ".py",
   "mimetype": "text/x-python",
   "name": "python",
   "nbconvert_exporter": "python",
   "pygments_lexer": "ipython3",
   "version": "3.6.5"
  }
 },
 "nbformat": 4,
 "nbformat_minor": 2
}
